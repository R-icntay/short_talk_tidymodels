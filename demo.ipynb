{
    "cells": [
        {
            "cell_type": "markdown",
            "metadata": {},
            "source": [
                "## **A quick flight to the edge of Data Science: Tidy Modelling with R**\n",
                "\n",
                "\n",
                "\n",
                "\n",
                "### Meet the data\n",
                "\n",
                "In this sections, we'll build a multiclass classifier for classifying penguins!\n",
                "\n",
                "The `palmerpenguins` data contains size measurements for three penguin species observed on three islands in the Palmer Archipelago, Antarctica.\n",
                "\n",
                "\n",
                "### A quick look at the data\n"
            ]
        },
        {
            "cell_type": "code",
            "execution_count": 52,
            "metadata": {},
            "outputs": [
                {
                    "data": {
                        "text/html": [
                            "<table class=\"dataframe\">\n",
                            "<caption>A tibble: 10 × 5</caption>\n",
                            "<thead>\n",
                            "\t<tr><th scope=col>bill_length_mm</th><th scope=col>bill_depth_mm</th><th scope=col>flipper_length_mm</th><th scope=col>body_mass_g</th><th scope=col>species</th></tr>\n",
                            "\t<tr><th scope=col>&lt;dbl&gt;</th><th scope=col>&lt;dbl&gt;</th><th scope=col>&lt;dbl&gt;</th><th scope=col>&lt;dbl&gt;</th><th scope=col>&lt;fct&gt;</th></tr>\n",
                            "</thead>\n",
                            "<tbody>\n",
                            "\t<tr><td>39.1</td><td>18.7</td><td>181</td><td>3750</td><td>Adelie</td></tr>\n",
                            "\t<tr><td>39.5</td><td>17.4</td><td>186</td><td>3800</td><td>Adelie</td></tr>\n",
                            "\t<tr><td>40.3</td><td>18.0</td><td>195</td><td>3250</td><td>Adelie</td></tr>\n",
                            "\t<tr><td>36.7</td><td>19.3</td><td>193</td><td>3450</td><td>Adelie</td></tr>\n",
                            "\t<tr><td>39.3</td><td>20.6</td><td>190</td><td>3650</td><td>Adelie</td></tr>\n",
                            "\t<tr><td>38.9</td><td>17.8</td><td>181</td><td>3625</td><td>Adelie</td></tr>\n",
                            "\t<tr><td>39.2</td><td>19.6</td><td>195</td><td>4675</td><td>Adelie</td></tr>\n",
                            "\t<tr><td>34.1</td><td>18.1</td><td>193</td><td>3475</td><td>Adelie</td></tr>\n",
                            "\t<tr><td>42.0</td><td>20.2</td><td>190</td><td>4250</td><td>Adelie</td></tr>\n",
                            "\t<tr><td>37.8</td><td>17.1</td><td>186</td><td>3300</td><td>Adelie</td></tr>\n",
                            "</tbody>\n",
                            "</table>\n"
                        ],
                        "text/latex": [
                            "A tibble: 10 × 5\n",
                            "\\begin{tabular}{lllll}\n",
                            " bill\\_length\\_mm & bill\\_depth\\_mm & flipper\\_length\\_mm & body\\_mass\\_g & species\\\\\n",
                            " <dbl> & <dbl> & <dbl> & <dbl> & <fct>\\\\\n",
                            "\\hline\n",
                            "\t 39.1 & 18.7 & 181 & 3750 & Adelie\\\\\n",
                            "\t 39.5 & 17.4 & 186 & 3800 & Adelie\\\\\n",
                            "\t 40.3 & 18.0 & 195 & 3250 & Adelie\\\\\n",
                            "\t 36.7 & 19.3 & 193 & 3450 & Adelie\\\\\n",
                            "\t 39.3 & 20.6 & 190 & 3650 & Adelie\\\\\n",
                            "\t 38.9 & 17.8 & 181 & 3625 & Adelie\\\\\n",
                            "\t 39.2 & 19.6 & 195 & 4675 & Adelie\\\\\n",
                            "\t 34.1 & 18.1 & 193 & 3475 & Adelie\\\\\n",
                            "\t 42.0 & 20.2 & 190 & 4250 & Adelie\\\\\n",
                            "\t 37.8 & 17.1 & 186 & 3300 & Adelie\\\\\n",
                            "\\end{tabular}\n"
                        ],
                        "text/markdown": [
                            "\n",
                            "A tibble: 10 × 5\n",
                            "\n",
                            "| bill_length_mm &lt;dbl&gt; | bill_depth_mm &lt;dbl&gt; | flipper_length_mm &lt;dbl&gt; | body_mass_g &lt;dbl&gt; | species &lt;fct&gt; |\n",
                            "|---|---|---|---|---|\n",
                            "| 39.1 | 18.7 | 181 | 3750 | Adelie |\n",
                            "| 39.5 | 17.4 | 186 | 3800 | Adelie |\n",
                            "| 40.3 | 18.0 | 195 | 3250 | Adelie |\n",
                            "| 36.7 | 19.3 | 193 | 3450 | Adelie |\n",
                            "| 39.3 | 20.6 | 190 | 3650 | Adelie |\n",
                            "| 38.9 | 17.8 | 181 | 3625 | Adelie |\n",
                            "| 39.2 | 19.6 | 195 | 4675 | Adelie |\n",
                            "| 34.1 | 18.1 | 193 | 3475 | Adelie |\n",
                            "| 42.0 | 20.2 | 190 | 4250 | Adelie |\n",
                            "| 37.8 | 17.1 | 186 | 3300 | Adelie |\n",
                            "\n"
                        ],
                        "text/plain": [
                            "   bill_length_mm bill_depth_mm flipper_length_mm body_mass_g species\n",
                            "1  39.1           18.7          181               3750        Adelie \n",
                            "2  39.5           17.4          186               3800        Adelie \n",
                            "3  40.3           18.0          195               3250        Adelie \n",
                            "4  36.7           19.3          193               3450        Adelie \n",
                            "5  39.3           20.6          190               3650        Adelie \n",
                            "6  38.9           17.8          181               3625        Adelie \n",
                            "7  39.2           19.6          195               4675        Adelie \n",
                            "8  34.1           18.1          193               3475        Adelie \n",
                            "9  42.0           20.2          190               4250        Adelie \n",
                            "10 37.8           17.1          186               3300        Adelie "
                        ]
                    },
                    "metadata": {},
                    "output_type": "display_data"
                },
                {
                    "data": {
                        "text/html": [
                            "<style>\n",
                            ".list-inline {list-style: none; margin:0; padding: 0}\n",
                            ".list-inline>li {display: inline-block}\n",
                            ".list-inline>li:not(:last-child)::after {content: \"\\00b7\"; padding: 0 .5ex}\n",
                            "</style>\n",
                            "<ol class=list-inline><li>342</li><li>5</li></ol>\n"
                        ],
                        "text/latex": [
                            "\\begin{enumerate*}\n",
                            "\\item 342\n",
                            "\\item 5\n",
                            "\\end{enumerate*}\n"
                        ],
                        "text/markdown": [
                            "1. 342\n",
                            "2. 5\n",
                            "\n",
                            "\n"
                        ],
                        "text/plain": [
                            "[1] 342   5"
                        ]
                    },
                    "metadata": {},
                    "output_type": "display_data"
                }
            ],
            "source": [
                "# Load the required packages and make them available in your current R session\n",
                "suppressPackageStartupMessages({\n",
                "  library(tidyverse)\n",
                "  library(tidymodels)\n",
                "})\n",
                "\n",
                "# Import data\n",
                "penguins <- read_csv(\"penguins.csv\", show_col_types = FALSE) %>% \n",
                "  mutate(species = factor(species))\n",
                "\n",
                "# View the first 10 observations\n",
                "penguins %>%\n",
                "  slice_head(n = 10)\n",
                "\n",
                "dim(penguins)"
            ]
        },
        {
            "cell_type": "markdown",
            "metadata": {},
            "source": [
                "The data contains the following columns:\n",
                "\n",
                "\n",
                "The **species** column containing penguin species `Adelie`, `Chinstrap`, or `Gentoo`, is the label we want to train a model to predict.\n",
                "\n",
                "\n"
            ]
        },
        {
            "cell_type": "code",
            "execution_count": 53,
            "metadata": {},
            "outputs": [
                {
                    "data": {
                        "text/html": [
                            "FALSE"
                        ],
                        "text/latex": [
                            "FALSE"
                        ],
                        "text/markdown": [
                            "FALSE"
                        ],
                        "text/plain": [
                            "[1] FALSE"
                        ]
                    },
                    "metadata": {},
                    "output_type": "display_data"
                }
            ],
            "source": [
                "# Check missing values\n",
                "anyNA(penguins)\n"
            ]
        },
        {
            "cell_type": "markdown",
            "metadata": {},
            "source": [
                "No missing values. Good start!\n",
                "\n",
                "For brevity, let's make one exploratory plot.\n",
                "\n"
            ]
        },
        {
            "cell_type": "code",
            "execution_count": 54,
            "metadata": {},
            "outputs": [
                {
                    "data": {
                        "text/html": [
                            "<table class=\"dataframe\">\n",
                            "<caption>A tibble: 10 × 3</caption>\n",
                            "<thead>\n",
                            "\t<tr><th scope=col>species</th><th scope=col>predictors</th><th scope=col>values</th></tr>\n",
                            "\t<tr><th scope=col>&lt;fct&gt;</th><th scope=col>&lt;chr&gt;</th><th scope=col>&lt;dbl&gt;</th></tr>\n",
                            "</thead>\n",
                            "<tbody>\n",
                            "\t<tr><td>Chinstrap</td><td>body_mass_g      </td><td>3700.0</td></tr>\n",
                            "\t<tr><td>Gentoo   </td><td>body_mass_g      </td><td>5850.0</td></tr>\n",
                            "\t<tr><td>Adelie   </td><td>bill_length_mm   </td><td>  35.3</td></tr>\n",
                            "\t<tr><td>Gentoo   </td><td>bill_depth_mm    </td><td>  16.0</td></tr>\n",
                            "\t<tr><td>Gentoo   </td><td>bill_length_mm   </td><td>  50.0</td></tr>\n",
                            "\t<tr><td>Gentoo   </td><td>bill_depth_mm    </td><td>  14.5</td></tr>\n",
                            "\t<tr><td>Gentoo   </td><td>flipper_length_mm</td><td> 212.0</td></tr>\n",
                            "\t<tr><td>Adelie   </td><td>flipper_length_mm</td><td> 185.0</td></tr>\n",
                            "\t<tr><td>Adelie   </td><td>flipper_length_mm</td><td> 195.0</td></tr>\n",
                            "\t<tr><td>Gentoo   </td><td>flipper_length_mm</td><td> 210.0</td></tr>\n",
                            "</tbody>\n",
                            "</table>\n"
                        ],
                        "text/latex": [
                            "A tibble: 10 × 3\n",
                            "\\begin{tabular}{lll}\n",
                            " species & predictors & values\\\\\n",
                            " <fct> & <chr> & <dbl>\\\\\n",
                            "\\hline\n",
                            "\t Chinstrap & body\\_mass\\_g       & 3700.0\\\\\n",
                            "\t Gentoo    & body\\_mass\\_g       & 5850.0\\\\\n",
                            "\t Adelie    & bill\\_length\\_mm    &   35.3\\\\\n",
                            "\t Gentoo    & bill\\_depth\\_mm     &   16.0\\\\\n",
                            "\t Gentoo    & bill\\_length\\_mm    &   50.0\\\\\n",
                            "\t Gentoo    & bill\\_depth\\_mm     &   14.5\\\\\n",
                            "\t Gentoo    & flipper\\_length\\_mm &  212.0\\\\\n",
                            "\t Adelie    & flipper\\_length\\_mm &  185.0\\\\\n",
                            "\t Adelie    & flipper\\_length\\_mm &  195.0\\\\\n",
                            "\t Gentoo    & flipper\\_length\\_mm &  210.0\\\\\n",
                            "\\end{tabular}\n"
                        ],
                        "text/markdown": [
                            "\n",
                            "A tibble: 10 × 3\n",
                            "\n",
                            "| species &lt;fct&gt; | predictors &lt;chr&gt; | values &lt;dbl&gt; |\n",
                            "|---|---|---|\n",
                            "| Chinstrap | body_mass_g       | 3700.0 |\n",
                            "| Gentoo    | body_mass_g       | 5850.0 |\n",
                            "| Adelie    | bill_length_mm    |   35.3 |\n",
                            "| Gentoo    | bill_depth_mm     |   16.0 |\n",
                            "| Gentoo    | bill_length_mm    |   50.0 |\n",
                            "| Gentoo    | bill_depth_mm     |   14.5 |\n",
                            "| Gentoo    | flipper_length_mm |  212.0 |\n",
                            "| Adelie    | flipper_length_mm |  185.0 |\n",
                            "| Adelie    | flipper_length_mm |  195.0 |\n",
                            "| Gentoo    | flipper_length_mm |  210.0 |\n",
                            "\n"
                        ],
                        "text/plain": [
                            "   species   predictors        values\n",
                            "1  Chinstrap body_mass_g       3700.0\n",
                            "2  Gentoo    body_mass_g       5850.0\n",
                            "3  Adelie    bill_length_mm      35.3\n",
                            "4  Gentoo    bill_depth_mm       16.0\n",
                            "5  Gentoo    bill_length_mm      50.0\n",
                            "6  Gentoo    bill_depth_mm       14.5\n",
                            "7  Gentoo    flipper_length_mm  212.0\n",
                            "8  Adelie    flipper_length_mm  185.0\n",
                            "9  Adelie    flipper_length_mm  195.0\n",
                            "10 Gentoo    flipper_length_mm  210.0"
                        ]
                    },
                    "metadata": {},
                    "output_type": "display_data"
                },
                {
                    "data": {
                        "image/png": "[encoded data removed]",
                        "text/plain": [
                            "plot without title"
                        ]
                    },
                    "metadata": {
                        "image/png": {
                            "height": 420,
                            "width": 420
                        }
                    },
                    "output_type": "display_data"
                }
            ],
            "source": [
                "# Pivot data to a long format\n",
                "penguins_select_long <- penguins %>% \n",
                "  pivot_longer(!species, names_to = \"predictors\", values_to = \"values\")\n",
                "\n",
                "penguins_select_long %>% \n",
                "  slice_sample(n = 10)\n",
                "\n",
                "# Make box plots\n",
                "theme_set(theme_light())\n",
                "penguins_select_long %>%\n",
                "  ggplot(mapping = aes(x = species, y = values, fill = predictors)) +\n",
                "  geom_boxplot() +\n",
                "  facet_wrap(~predictors, scales = \"free\") +\n",
                "  paletteer::scale_fill_paletteer_d(\"nbapalettes::supersonics_holiday\") +\n",
                "  theme(legend.position = \"none\")\n",
                "  \n"
            ]
        },
        {
            "cell_type": "markdown",
            "metadata": {},
            "source": [
                "From the box plots, it looks like species `Adelie` and `Chinstrap` have similar data profiles for bill_depth, flipper_length, and body_mass, but Chinstraps tend to have longer bill_length. `Gentoo` tends to have fairly clearly differentiated features from the others; which should help us train a good classification model.\n",
                "\n",
                "## Build a model\n",
                "\n",
                "### 1. Data budgeting\n",
                "\n",
                "To get started, let’s split this single dataset into two: a training set and a testing set. We’ll keep most of the rows in the original dataset (subset chosen randomly) in the training set. The training data will be used to fit the model, and the testing set will be used to measure model performance.\n"
            ]
        },
        {
            "cell_type": "code",
            "execution_count": 15,
            "metadata": {},
            "outputs": [
                {
                    "name": "stdout",
                    "output_type": "stream",
                    "text": [
                        "Training cases: 239\n",
                        "Test cases: 103"
                    ]
                }
            ],
            "source": [
                "# For reproducibility\n",
                "set.seed(2056)\n",
                "\n",
                "# Split data 70%-30% into training set and test set\n",
                "penguins_split <- penguins %>% \n",
                "  initial_split(prop = 0.70)\n",
                "\n",
                "# Extract data in each split\n",
                "penguins_train <- training(penguins_split)\n",
                "penguins_test <- testing(penguins_split)\n",
                "\n",
                "# Print the number of observations in each split\n",
                "cat(\"Training cases: \", nrow(penguins_train), \"\\n\",\n",
                "    \"Test cases: \", nrow(penguins_test), sep = \"\")\n"
            ]
        },
        {
            "cell_type": "markdown",
            "metadata": {},
            "source": [
                "### 2. Make a model specifcation\n",
                "\n",
                "<p >\n",
                "<center><img src = \"images/parsnip.png\", width= 500>\n",
                "<figcaption>Artwork by @allison_horst</figcaption>\n",
                "\n",
                "\n"
            ]
        },
        {
            "cell_type": "markdown",
            "metadata": {},
            "source": [
                "Tidymodels provides a unified interface to models that can be used to try a range of models by specifying three concepts:\n",
                "\n",
                "- Model **type** differentiates models such as logistic regression, decision tree models, and so forth.\n",
                "\n",
                "- Model **engine** is the computational tool which will be used to fit the model. Often these are R packages, such as \"lm\" or \"ranger\"\n",
                "\n",
                "- Model **mode** includes common options like regression and classification; some model types support either of these while some only have one mode."
            ]
        },
        {
            "cell_type": "code",
            "execution_count": 55,
            "metadata": {},
            "outputs": [
                {
                    "name": "stdout",
                    "output_type": "stream",
                    "text": [
                        "Random Forest Model Specification (classification)\n",
                        "\n",
                        "Computational engine: ranger \n",
                        "\n"
                    ]
                }
            ],
            "source": [
                "# Specify a random forest model via ranger\n",
                "rf_spec <- rand_forest() %>% \n",
                "  set_engine(\"ranger\") %>% \n",
                "  set_mode(\"classification\")\n",
                "\n",
                "print(rf_spec)"
            ]
        },
        {
            "cell_type": "code",
            "execution_count": 62,
            "metadata": {},
            "outputs": [
                {
                    "name": "stdout",
                    "output_type": "stream",
                    "text": [
                        "Multinomial Regression Model Specification (classification)\n",
                        "\n",
                        "Main Arguments:\n",
                        "  penalty = 1\n",
                        "\n",
                        "Computational engine: nnet \n",
                        "\n"
                    ]
                }
            ],
            "source": [
                "# Specify a multinomial logistic regression model via nnet\n",
                "rf_spec <- multinom_reg(penalty = 1) %>% \n",
                "  set_engine(\"nnet\") %>% \n",
                "  set_mode(\"classification\")\n",
                "\n",
                "print(rf_spec)"
            ]
        },
        {
            "cell_type": "markdown",
            "metadata": {},
            "source": [
                "### 3. Train a model\n",
                "\n",
                "Now that your `penguins_train` data is ready, you can fit a set of models with tidymodels."
            ]
        },
        {
            "cell_type": "code",
            "execution_count": 63,
            "metadata": {},
            "outputs": [
                {
                    "name": "stdout",
                    "output_type": "stream",
                    "text": [
                        "parsnip model object\n",
                        "\n",
                        "Fit time:  10ms \n",
                        "Call:\n",
                        "nnet::multinom(formula = species ~ ., data = data, decay = ~1, \n",
                        "    trace = FALSE)\n",
                        "\n",
                        "Coefficients:\n",
                        "          (Intercept) bill_length_mm bill_depth_mm flipper_length_mm\n",
                        "Chinstrap -0.06882423      1.4164181    -0.6972606     -0.1764658531\n",
                        "Gentoo    -0.03358640      0.2879962    -1.6844767      0.0004180132\n",
                        "          body_mass_g\n",
                        "Chinstrap -0.00421942\n",
                        "Gentoo     0.00350662\n",
                        "\n",
                        "Residual Deviance: 29.95049 \n",
                        "AIC: 49.95049 \n"
                    ]
                }
            ],
            "source": [
                "# Train a regression model\n",
                "set.seed(2056)\n",
                "penguins_mod <- rf_spec %>% \n",
                "  fit(species ~ ., data = penguins_train)\n",
                "\n",
                "# Print the model\n",
                "print(penguins_mod)"
            ]
        },
        {
            "cell_type": "markdown",
            "metadata": {},
            "source": [
                "### 4. Evaluate Model using test data\n",
                "\n",
                "Now we can use the trained model to predict the labels for the test features, and evaluate performance. When making predictions, the tidymodels convention is to always produce a tibble of results with standardized column names.\n",
                "\n"
            ]
        },
        {
            "cell_type": "code",
            "execution_count": 64,
            "metadata": {},
            "outputs": [
                {
                    "data": {
                        "text/html": [
                            "<table class=\"dataframe\">\n",
                            "<caption>A tibble: 10 × 1</caption>\n",
                            "<thead>\n",
                            "\t<tr><th scope=col>.pred_class</th></tr>\n",
                            "\t<tr><th scope=col>&lt;fct&gt;</th></tr>\n",
                            "</thead>\n",
                            "<tbody>\n",
                            "\t<tr><td>Adelie</td></tr>\n",
                            "\t<tr><td>Adelie</td></tr>\n",
                            "\t<tr><td>Adelie</td></tr>\n",
                            "\t<tr><td>Adelie</td></tr>\n",
                            "\t<tr><td>Adelie</td></tr>\n",
                            "\t<tr><td>Adelie</td></tr>\n",
                            "\t<tr><td>Adelie</td></tr>\n",
                            "\t<tr><td>Adelie</td></tr>\n",
                            "\t<tr><td>Adelie</td></tr>\n",
                            "\t<tr><td>Adelie</td></tr>\n",
                            "</tbody>\n",
                            "</table>\n"
                        ],
                        "text/latex": [
                            "A tibble: 10 × 1\n",
                            "\\begin{tabular}{l}\n",
                            " .pred\\_class\\\\\n",
                            " <fct>\\\\\n",
                            "\\hline\n",
                            "\t Adelie\\\\\n",
                            "\t Adelie\\\\\n",
                            "\t Adelie\\\\\n",
                            "\t Adelie\\\\\n",
                            "\t Adelie\\\\\n",
                            "\t Adelie\\\\\n",
                            "\t Adelie\\\\\n",
                            "\t Adelie\\\\\n",
                            "\t Adelie\\\\\n",
                            "\t Adelie\\\\\n",
                            "\\end{tabular}\n"
                        ],
                        "text/markdown": [
                            "\n",
                            "A tibble: 10 × 1\n",
                            "\n",
                            "| .pred_class &lt;fct&gt; |\n",
                            "|---|\n",
                            "| Adelie |\n",
                            "| Adelie |\n",
                            "| Adelie |\n",
                            "| Adelie |\n",
                            "| Adelie |\n",
                            "| Adelie |\n",
                            "| Adelie |\n",
                            "| Adelie |\n",
                            "| Adelie |\n",
                            "| Adelie |\n",
                            "\n"
                        ],
                        "text/plain": [
                            "   .pred_class\n",
                            "1  Adelie     \n",
                            "2  Adelie     \n",
                            "3  Adelie     \n",
                            "4  Adelie     \n",
                            "5  Adelie     \n",
                            "6  Adelie     \n",
                            "7  Adelie     \n",
                            "8  Adelie     \n",
                            "9  Adelie     \n",
                            "10 Adelie     "
                        ]
                    },
                    "metadata": {},
                    "output_type": "display_data"
                }
            ],
            "source": [
                "# Make predictions for the test set\n",
                "penguins_pred <- penguins_mod %>% \n",
                "  predict(new_data = penguins_test)\n",
                "\n",
                "penguins_pred %>% \n",
                "  slice_head(n = 10)"
            ]
        },
        {
            "cell_type": "markdown",
            "metadata": {},
            "source": [
                "This makes it easy to combine the original data and the predictions in a usable format:"
            ]
        },
        {
            "cell_type": "code",
            "execution_count": 65,
            "metadata": {},
            "outputs": [
                {
                    "data": {
                        "text/html": [
                            "<table class=\"dataframe\">\n",
                            "<caption>A tibble: 10 × 6</caption>\n",
                            "<thead>\n",
                            "\t<tr><th scope=col>bill_length_mm</th><th scope=col>bill_depth_mm</th><th scope=col>flipper_length_mm</th><th scope=col>body_mass_g</th><th scope=col>species</th><th scope=col>.pred_class</th></tr>\n",
                            "\t<tr><th scope=col>&lt;dbl&gt;</th><th scope=col>&lt;dbl&gt;</th><th scope=col>&lt;dbl&gt;</th><th scope=col>&lt;dbl&gt;</th><th scope=col>&lt;fct&gt;</th><th scope=col>&lt;fct&gt;</th></tr>\n",
                            "</thead>\n",
                            "<tbody>\n",
                            "\t<tr><td>37.8</td><td>18.3</td><td>174</td><td>3400</td><td>Adelie   </td><td>Adelie   </td></tr>\n",
                            "\t<tr><td>46.2</td><td>14.1</td><td>217</td><td>4375</td><td>Gentoo   </td><td>Gentoo   </td></tr>\n",
                            "\t<tr><td>42.8</td><td>14.2</td><td>209</td><td>4700</td><td>Gentoo   </td><td>Gentoo   </td></tr>\n",
                            "\t<tr><td>44.0</td><td>13.6</td><td>208</td><td>4350</td><td>Gentoo   </td><td>Gentoo   </td></tr>\n",
                            "\t<tr><td>34.0</td><td>17.1</td><td>185</td><td>3400</td><td>Adelie   </td><td>Adelie   </td></tr>\n",
                            "\t<tr><td>40.8</td><td>18.4</td><td>195</td><td>3900</td><td>Adelie   </td><td>Adelie   </td></tr>\n",
                            "\t<tr><td>42.5</td><td>16.7</td><td>187</td><td>3350</td><td>Chinstrap</td><td>Chinstrap</td></tr>\n",
                            "\t<tr><td>49.6</td><td>16.0</td><td>225</td><td>5700</td><td>Gentoo   </td><td>Gentoo   </td></tr>\n",
                            "\t<tr><td>38.5</td><td>17.9</td><td>190</td><td>3325</td><td>Adelie   </td><td>Adelie   </td></tr>\n",
                            "\t<tr><td>46.7</td><td>15.3</td><td>219</td><td>5200</td><td>Gentoo   </td><td>Gentoo   </td></tr>\n",
                            "</tbody>\n",
                            "</table>\n"
                        ],
                        "text/latex": [
                            "A tibble: 10 × 6\n",
                            "\\begin{tabular}{llllll}\n",
                            " bill\\_length\\_mm & bill\\_depth\\_mm & flipper\\_length\\_mm & body\\_mass\\_g & species & .pred\\_class\\\\\n",
                            " <dbl> & <dbl> & <dbl> & <dbl> & <fct> & <fct>\\\\\n",
                            "\\hline\n",
                            "\t 37.8 & 18.3 & 174 & 3400 & Adelie    & Adelie   \\\\\n",
                            "\t 46.2 & 14.1 & 217 & 4375 & Gentoo    & Gentoo   \\\\\n",
                            "\t 42.8 & 14.2 & 209 & 4700 & Gentoo    & Gentoo   \\\\\n",
                            "\t 44.0 & 13.6 & 208 & 4350 & Gentoo    & Gentoo   \\\\\n",
                            "\t 34.0 & 17.1 & 185 & 3400 & Adelie    & Adelie   \\\\\n",
                            "\t 40.8 & 18.4 & 195 & 3900 & Adelie    & Adelie   \\\\\n",
                            "\t 42.5 & 16.7 & 187 & 3350 & Chinstrap & Chinstrap\\\\\n",
                            "\t 49.6 & 16.0 & 225 & 5700 & Gentoo    & Gentoo   \\\\\n",
                            "\t 38.5 & 17.9 & 190 & 3325 & Adelie    & Adelie   \\\\\n",
                            "\t 46.7 & 15.3 & 219 & 5200 & Gentoo    & Gentoo   \\\\\n",
                            "\\end{tabular}\n"
                        ],
                        "text/markdown": [
                            "\n",
                            "A tibble: 10 × 6\n",
                            "\n",
                            "| bill_length_mm &lt;dbl&gt; | bill_depth_mm &lt;dbl&gt; | flipper_length_mm &lt;dbl&gt; | body_mass_g &lt;dbl&gt; | species &lt;fct&gt; | .pred_class &lt;fct&gt; |\n",
                            "|---|---|---|---|---|---|\n",
                            "| 37.8 | 18.3 | 174 | 3400 | Adelie    | Adelie    |\n",
                            "| 46.2 | 14.1 | 217 | 4375 | Gentoo    | Gentoo    |\n",
                            "| 42.8 | 14.2 | 209 | 4700 | Gentoo    | Gentoo    |\n",
                            "| 44.0 | 13.6 | 208 | 4350 | Gentoo    | Gentoo    |\n",
                            "| 34.0 | 17.1 | 185 | 3400 | Adelie    | Adelie    |\n",
                            "| 40.8 | 18.4 | 195 | 3900 | Adelie    | Adelie    |\n",
                            "| 42.5 | 16.7 | 187 | 3350 | Chinstrap | Chinstrap |\n",
                            "| 49.6 | 16.0 | 225 | 5700 | Gentoo    | Gentoo    |\n",
                            "| 38.5 | 17.9 | 190 | 3325 | Adelie    | Adelie    |\n",
                            "| 46.7 | 15.3 | 219 | 5200 | Gentoo    | Gentoo    |\n",
                            "\n"
                        ],
                        "text/plain": [
                            "   bill_length_mm bill_depth_mm flipper_length_mm body_mass_g species  \n",
                            "1  37.8           18.3          174               3400        Adelie   \n",
                            "2  46.2           14.1          217               4375        Gentoo   \n",
                            "3  42.8           14.2          209               4700        Gentoo   \n",
                            "4  44.0           13.6          208               4350        Gentoo   \n",
                            "5  34.0           17.1          185               3400        Adelie   \n",
                            "6  40.8           18.4          195               3900        Adelie   \n",
                            "7  42.5           16.7          187               3350        Chinstrap\n",
                            "8  49.6           16.0          225               5700        Gentoo   \n",
                            "9  38.5           17.9          190               3325        Adelie   \n",
                            "10 46.7           15.3          219               5200        Gentoo   \n",
                            "   .pred_class\n",
                            "1  Adelie     \n",
                            "2  Gentoo     \n",
                            "3  Gentoo     \n",
                            "4  Gentoo     \n",
                            "5  Adelie     \n",
                            "6  Adelie     \n",
                            "7  Chinstrap  \n",
                            "8  Gentoo     \n",
                            "9  Adelie     \n",
                            "10 Gentoo     "
                        ]
                    },
                    "metadata": {},
                    "output_type": "display_data"
                }
            ],
            "source": [
                "# Combine predictions with test set\n",
                "penguins_results <- penguins_test %>% \n",
                "  bind_cols(penguins_pred)\n",
                "\n",
                "# Print predictions\n",
                "penguins_results %>% \n",
                "  slice_sample(n = 10)\n",
                "\n"
            ]
        },
        {
            "cell_type": "markdown",
            "metadata": {},
            "source": [
                "Now, let's look at the confusion matrix for our model\n",
                "\n"
            ]
        },
        {
            "cell_type": "code",
            "execution_count": 66,
            "metadata": {},
            "outputs": [
                {
                    "name": "stdout",
                    "output_type": "stream",
                    "text": [
                        "           Truth\n",
                        "Prediction  Adelie Chinstrap Gentoo\n",
                        "  Adelie        48         1      0\n",
                        "  Chinstrap      0        19      0\n",
                        "  Gentoo         0         0     35\n"
                    ]
                }
            ],
            "source": [
                "# Confusion matrix\n",
                "penguins_results %>% \n",
                "  conf_mat(truth = species, estimate = .pred_class) %>% \n",
                "  print()\n"
            ]
        },
        {
            "cell_type": "markdown",
            "metadata": {},
            "source": [
                "The confusion matrix shows the intersection of predicted and actual label values for each class - in simple terms, the diagonal intersections from top-left to bottom-right indicate the number of correct predictions.\n",
                "\n",
                "When dealing with multiple classes, it's generally more intuitive to visualize this as a heat map, like this:\n"
            ]
        },
        {
            "cell_type": "code",
            "execution_count": 67,
            "metadata": {},
            "outputs": [
                {
                    "data": {
                        "image/png": "[encoded data removed]",
                        "text/plain": [
                            "plot without title"
                        ]
                    },
                    "metadata": {
                        "image/png": {
                            "height": 420,
                            "width": 420
                        }
                    },
                    "output_type": "display_data"
                }
            ],
            "source": [
                "update_geom_defaults(geom = \"tile\", new = list(color = \"black\", alpha = 0.7))\n",
                "# Visualize confusion matrix\n",
                "penguins_results %>% \n",
                "  conf_mat(species, .pred_class) %>% \n",
                "  autoplot(type = \"heatmap\")\n"
            ]
        },
        {
            "cell_type": "markdown",
            "metadata": {},
            "source": [
                "The darker squares in the confusion matrix plot indicate high numbers of cases, and you can hopefully see a diagonal line of darker squares indicating cases where the predicted and actual label are the same.\n",
                "\n",
                "Let's now calculate summary statistics for the confusion matrix.\n"
            ]
        },
        {
            "cell_type": "markdown",
            "metadata": {},
            "source": [
                "Again, notice how the results of Tidymodels augment well with existing Tidy data Functions such as `Filter()`"
            ]
        },
        {
            "cell_type": "code",
            "execution_count": 68,
            "metadata": {},
            "outputs": [
                {
                    "data": {
                        "text/html": [
                            "<table class=\"dataframe\">\n",
                            "<caption>A tibble: 3 × 3</caption>\n",
                            "<thead>\n",
                            "\t<tr><th scope=col>.metric</th><th scope=col>.estimator</th><th scope=col>.estimate</th></tr>\n",
                            "\t<tr><th scope=col>&lt;chr&gt;</th><th scope=col>&lt;chr&gt;</th><th scope=col>&lt;dbl&gt;</th></tr>\n",
                            "</thead>\n",
                            "<tbody>\n",
                            "\t<tr><td>accuracy</td><td>multiclass</td><td>0.9902913</td></tr>\n",
                            "\t<tr><td>sens    </td><td>macro     </td><td>0.9833333</td></tr>\n",
                            "\t<tr><td>ppv     </td><td>macro     </td><td>0.9931973</td></tr>\n",
                            "</tbody>\n",
                            "</table>\n"
                        ],
                        "text/latex": [
                            "A tibble: 3 × 3\n",
                            "\\begin{tabular}{lll}\n",
                            " .metric & .estimator & .estimate\\\\\n",
                            " <chr> & <chr> & <dbl>\\\\\n",
                            "\\hline\n",
                            "\t accuracy & multiclass & 0.9902913\\\\\n",
                            "\t sens     & macro      & 0.9833333\\\\\n",
                            "\t ppv      & macro      & 0.9931973\\\\\n",
                            "\\end{tabular}\n"
                        ],
                        "text/markdown": [
                            "\n",
                            "A tibble: 3 × 3\n",
                            "\n",
                            "| .metric &lt;chr&gt; | .estimator &lt;chr&gt; | .estimate &lt;dbl&gt; |\n",
                            "|---|---|---|\n",
                            "| accuracy | multiclass | 0.9902913 |\n",
                            "| sens     | macro      | 0.9833333 |\n",
                            "| ppv      | macro      | 0.9931973 |\n",
                            "\n"
                        ],
                        "text/plain": [
                            "  .metric  .estimator .estimate\n",
                            "1 accuracy multiclass 0.9902913\n",
                            "2 sens     macro      0.9833333\n",
                            "3 ppv      macro      0.9931973"
                        ]
                    },
                    "metadata": {},
                    "output_type": "display_data"
                }
            ],
            "source": [
                "# Statistical summaries for the confusion matrix\n",
                "conf_mat(data = penguins_results, truth = species, estimate = .pred_class) %>% \n",
                "  summary()  %>% \n",
                "  filter(.metric %in% c(\"accuracy\", \"sens\", \"ppv\"))\n"
            ]
        },
        {
            "cell_type": "markdown",
            "metadata": {},
            "source": [
                "The tibble shows the overall metrics of how well the model performs across all three classes.\n",
                "\n",
                "Accuracy: The percentage of labels predicted accurately for a sample.\n",
                "\n",
                "Sensitivity: defined as the proportion of positive results out of the number of samples which were actually positive.\n",
                "\n",
                "Positive Predictive Value: defined as the proportion of predicted positives that are actually positive.\n",
                "\n",
                "\n",
                "\n",
                "\n",
                "\n",
                "\n"
            ]
        },
        {
            "cell_type": "markdown",
            "metadata": {},
            "source": [
                "Good job! A working model 🐧🐧! \n",
                "### **Wrapping up and next steps**\n",
                "\n",
                "<p >\n",
                "<img src = \"images/giphy_p.gif\", class = \"center\", width= 300>\n",
                "\n",
                "Congratulations on building a random forest classification model in R. Some possible next steps (covered in the upcoming learning path) would be:\n",
                "\n",
                "- Feature Engineering\n",
                "- Tuning model hyperparameters\n",
                "- Comparing performance across many models\n",
                "- Deploying model to [Azure Machine Learning Studio](https://ml.azure.com/)\n",
                "\n"
            ]
        }
    ],
    "metadata": {
        "anaconda-cloud": "",
        "kernelspec": {
            "display_name": "R",
            "langauge": "R",
            "language": "R",
            "name": "ir"
        },
        "language_info": {
            "codemirror_mode": "r",
            "file_extension": ".r",
            "mimetype": "text/x-r-source",
            "name": "R",
            "pygments_lexer": "r",
            "version": "4.1.2"
        }
    },
    "nbformat": 4,
    "nbformat_minor": 1
}
