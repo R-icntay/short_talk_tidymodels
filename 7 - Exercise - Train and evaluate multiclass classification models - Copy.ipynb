{
    "cells": [
        {
            "cell_type": "markdown",
            "metadata": {},
            "source": [
                "## **A quick flight to the edge of Data Science: Tidy Modelling with R**\n",
                "\n",
                "\n",
                "\n",
                "\n",
                "### Meet the data\n",
                "\n",
                "In this sections, we'll build a multiclass classifier for classifying penguins!\n",
                "\n",
                "The `palmerpenguins` data contains size measurements for three penguin species observed on three islands in the Palmer Archipelago, Antarctica.\n",
                "\n",
                "\n",
                "### A quick look at the data\n"
            ]
        },
        {
            "cell_type": "code",
            "execution_count": 1,
            "metadata": {},
            "outputs": [
                {
                    "data": {
                        "text/html": [
                            "<table class=\"dataframe\">\n",
                            "<caption>A spec_tbl_df: 10 × 5</caption>\n",
                            "<thead>\n",
                            "\t<tr><th scope=col>bill_length_mm</th><th scope=col>bill_depth_mm</th><th scope=col>flipper_length_mm</th><th scope=col>body_mass_g</th><th scope=col>species</th></tr>\n",
                            "\t<tr><th scope=col>&lt;dbl&gt;</th><th scope=col>&lt;dbl&gt;</th><th scope=col>&lt;dbl&gt;</th><th scope=col>&lt;dbl&gt;</th><th scope=col>&lt;chr&gt;</th></tr>\n",
                            "</thead>\n",
                            "<tbody>\n",
                            "\t<tr><td>39.1</td><td>18.7</td><td>181</td><td>3750</td><td>Adelie</td></tr>\n",
                            "\t<tr><td>39.5</td><td>17.4</td><td>186</td><td>3800</td><td>Adelie</td></tr>\n",
                            "\t<tr><td>40.3</td><td>18.0</td><td>195</td><td>3250</td><td>Adelie</td></tr>\n",
                            "\t<tr><td>36.7</td><td>19.3</td><td>193</td><td>3450</td><td>Adelie</td></tr>\n",
                            "\t<tr><td>39.3</td><td>20.6</td><td>190</td><td>3650</td><td>Adelie</td></tr>\n",
                            "\t<tr><td>38.9</td><td>17.8</td><td>181</td><td>3625</td><td>Adelie</td></tr>\n",
                            "\t<tr><td>39.2</td><td>19.6</td><td>195</td><td>4675</td><td>Adelie</td></tr>\n",
                            "\t<tr><td>34.1</td><td>18.1</td><td>193</td><td>3475</td><td>Adelie</td></tr>\n",
                            "\t<tr><td>42.0</td><td>20.2</td><td>190</td><td>4250</td><td>Adelie</td></tr>\n",
                            "\t<tr><td>37.8</td><td>17.1</td><td>186</td><td>3300</td><td>Adelie</td></tr>\n",
                            "</tbody>\n",
                            "</table>\n"
                        ],
                        "text/latex": [
                            "A spec\\_tbl\\_df: 10 × 5\n",
                            "\\begin{tabular}{lllll}\n",
                            " bill\\_length\\_mm & bill\\_depth\\_mm & flipper\\_length\\_mm & body\\_mass\\_g & species\\\\\n",
                            " <dbl> & <dbl> & <dbl> & <dbl> & <chr>\\\\\n",
                            "\\hline\n",
                            "\t 39.1 & 18.7 & 181 & 3750 & Adelie\\\\\n",
                            "\t 39.5 & 17.4 & 186 & 3800 & Adelie\\\\\n",
                            "\t 40.3 & 18.0 & 195 & 3250 & Adelie\\\\\n",
                            "\t 36.7 & 19.3 & 193 & 3450 & Adelie\\\\\n",
                            "\t 39.3 & 20.6 & 190 & 3650 & Adelie\\\\\n",
                            "\t 38.9 & 17.8 & 181 & 3625 & Adelie\\\\\n",
                            "\t 39.2 & 19.6 & 195 & 4675 & Adelie\\\\\n",
                            "\t 34.1 & 18.1 & 193 & 3475 & Adelie\\\\\n",
                            "\t 42.0 & 20.2 & 190 & 4250 & Adelie\\\\\n",
                            "\t 37.8 & 17.1 & 186 & 3300 & Adelie\\\\\n",
                            "\\end{tabular}\n"
                        ],
                        "text/markdown": [
                            "\n",
                            "A spec_tbl_df: 10 × 5\n",
                            "\n",
                            "| bill_length_mm &lt;dbl&gt; | bill_depth_mm &lt;dbl&gt; | flipper_length_mm &lt;dbl&gt; | body_mass_g &lt;dbl&gt; | species &lt;chr&gt; |\n",
                            "|---|---|---|---|---|\n",
                            "| 39.1 | 18.7 | 181 | 3750 | Adelie |\n",
                            "| 39.5 | 17.4 | 186 | 3800 | Adelie |\n",
                            "| 40.3 | 18.0 | 195 | 3250 | Adelie |\n",
                            "| 36.7 | 19.3 | 193 | 3450 | Adelie |\n",
                            "| 39.3 | 20.6 | 190 | 3650 | Adelie |\n",
                            "| 38.9 | 17.8 | 181 | 3625 | Adelie |\n",
                            "| 39.2 | 19.6 | 195 | 4675 | Adelie |\n",
                            "| 34.1 | 18.1 | 193 | 3475 | Adelie |\n",
                            "| 42.0 | 20.2 | 190 | 4250 | Adelie |\n",
                            "| 37.8 | 17.1 | 186 | 3300 | Adelie |\n",
                            "\n"
                        ],
                        "text/plain": [
                            "   bill_length_mm bill_depth_mm flipper_length_mm body_mass_g species\n",
                            "1  39.1           18.7          181               3750        Adelie \n",
                            "2  39.5           17.4          186               3800        Adelie \n",
                            "3  40.3           18.0          195               3250        Adelie \n",
                            "4  36.7           19.3          193               3450        Adelie \n",
                            "5  39.3           20.6          190               3650        Adelie \n",
                            "6  38.9           17.8          181               3625        Adelie \n",
                            "7  39.2           19.6          195               4675        Adelie \n",
                            "8  34.1           18.1          193               3475        Adelie \n",
                            "9  42.0           20.2          190               4250        Adelie \n",
                            "10 37.8           17.1          186               3300        Adelie "
                        ]
                    },
                    "metadata": {},
                    "output_type": "display_data"
                },
                {
                    "name": "stdout",
                    "output_type": "stream",
                    "text": [
                        "Rows: 342\n",
                        "Columns: 5\n",
                        "$ bill_length_mm    \u001b[3m\u001b[90m<dbl>\u001b[39m\u001b[23m 39.1, 39.5, 40.3, 36.7, 39.3, 38.9, 39.2, 34.1, 42.0~\n",
                        "$ bill_depth_mm     \u001b[3m\u001b[90m<dbl>\u001b[39m\u001b[23m 18.7, 17.4, 18.0, 19.3, 20.6, 17.8, 19.6, 18.1, 20.2~\n",
                        "$ flipper_length_mm \u001b[3m\u001b[90m<dbl>\u001b[39m\u001b[23m 181, 186, 195, 193, 190, 181, 195, 193, 190, 186, 18~\n",
                        "$ body_mass_g       \u001b[3m\u001b[90m<dbl>\u001b[39m\u001b[23m 3750, 3800, 3250, 3450, 3650, 3625, 4675, 3475, 4250~\n",
                        "$ species           \u001b[3m\u001b[90m<chr>\u001b[39m\u001b[23m \"Adelie\", \"Adelie\", \"Adelie\", \"Adelie\", \"Adelie\", \"A~\n"
                    ]
                }
            ],
            "source": [
                "# Load the required packages and make them available in your current R session\n",
                "suppressPackageStartupMessages({\n",
                "  library(tidyverse)\n",
                "  library(tidymodels)\n",
                "})\n",
                "\n",
                "# Import data\n",
                "penguins <- read_csv(\"penguins.csv\", show_col_types = FALSE)\n",
                "\n",
                "# View the first 10 observations\n",
                "penguins %>%\n",
                "  slice_head(n = 10)\n",
                "\n",
                "penguins %>% \n",
                "  glimpse()"
            ]
        },
        {
            "cell_type": "markdown",
            "metadata": {},
            "source": [
                "The data contains the following columns:\n",
                "\n",
                "\n",
                "The **species** column containing penguin species `Adelie`, `Chinstrap`, or `Gentoo`, is the label we want to train a model to predict.\n",
                "\n",
                "\n"
            ]
        },
        {
            "cell_type": "code",
            "execution_count": 2,
            "metadata": {},
            "outputs": [
                {
                    "data": {
                        "text/html": [
                            "FALSE"
                        ],
                        "text/latex": [
                            "FALSE"
                        ],
                        "text/markdown": [
                            "FALSE"
                        ],
                        "text/plain": [
                            "[1] FALSE"
                        ]
                    },
                    "metadata": {},
                    "output_type": "display_data"
                }
            ],
            "source": [
                "# Check missing values\n",
                "anyNA(penguins)\n"
            ]
        },
        {
            "cell_type": "markdown",
            "metadata": {},
            "source": [
                "No missing values. Good start!\n",
                "\n",
                "For brevity, let's make one exploratory plot.\n",
                "\n"
            ]
        },
        {
            "cell_type": "code",
            "execution_count": 3,
            "metadata": {},
            "outputs": [
                {
                    "data": {
                        "text/html": [
                            "<table class=\"dataframe\">\n",
                            "<caption>A spec_tbl_df: 10 × 5</caption>\n",
                            "<thead>\n",
                            "\t<tr><th scope=col>bill_length_mm</th><th scope=col>bill_depth_mm</th><th scope=col>flipper_length_mm</th><th scope=col>body_mass_g</th><th scope=col>species</th></tr>\n",
                            "\t<tr><th scope=col>&lt;dbl&gt;</th><th scope=col>&lt;dbl&gt;</th><th scope=col>&lt;dbl&gt;</th><th scope=col>&lt;dbl&gt;</th><th scope=col>&lt;chr&gt;</th></tr>\n",
                            "</thead>\n",
                            "<tbody>\n",
                            "\t<tr><td>39.1</td><td>18.7</td><td>181</td><td>3750</td><td>Adelie</td></tr>\n",
                            "\t<tr><td>39.5</td><td>17.4</td><td>186</td><td>3800</td><td>Adelie</td></tr>\n",
                            "\t<tr><td>40.3</td><td>18.0</td><td>195</td><td>3250</td><td>Adelie</td></tr>\n",
                            "\t<tr><td>36.7</td><td>19.3</td><td>193</td><td>3450</td><td>Adelie</td></tr>\n",
                            "\t<tr><td>39.3</td><td>20.6</td><td>190</td><td>3650</td><td>Adelie</td></tr>\n",
                            "\t<tr><td>38.9</td><td>17.8</td><td>181</td><td>3625</td><td>Adelie</td></tr>\n",
                            "\t<tr><td>39.2</td><td>19.6</td><td>195</td><td>4675</td><td>Adelie</td></tr>\n",
                            "\t<tr><td>34.1</td><td>18.1</td><td>193</td><td>3475</td><td>Adelie</td></tr>\n",
                            "\t<tr><td>42.0</td><td>20.2</td><td>190</td><td>4250</td><td>Adelie</td></tr>\n",
                            "\t<tr><td>37.8</td><td>17.1</td><td>186</td><td>3300</td><td>Adelie</td></tr>\n",
                            "</tbody>\n",
                            "</table>\n"
                        ],
                        "text/latex": [
                            "A spec\\_tbl\\_df: 10 × 5\n",
                            "\\begin{tabular}{lllll}\n",
                            " bill\\_length\\_mm & bill\\_depth\\_mm & flipper\\_length\\_mm & body\\_mass\\_g & species\\\\\n",
                            " <dbl> & <dbl> & <dbl> & <dbl> & <chr>\\\\\n",
                            "\\hline\n",
                            "\t 39.1 & 18.7 & 181 & 3750 & Adelie\\\\\n",
                            "\t 39.5 & 17.4 & 186 & 3800 & Adelie\\\\\n",
                            "\t 40.3 & 18.0 & 195 & 3250 & Adelie\\\\\n",
                            "\t 36.7 & 19.3 & 193 & 3450 & Adelie\\\\\n",
                            "\t 39.3 & 20.6 & 190 & 3650 & Adelie\\\\\n",
                            "\t 38.9 & 17.8 & 181 & 3625 & Adelie\\\\\n",
                            "\t 39.2 & 19.6 & 195 & 4675 & Adelie\\\\\n",
                            "\t 34.1 & 18.1 & 193 & 3475 & Adelie\\\\\n",
                            "\t 42.0 & 20.2 & 190 & 4250 & Adelie\\\\\n",
                            "\t 37.8 & 17.1 & 186 & 3300 & Adelie\\\\\n",
                            "\\end{tabular}\n"
                        ],
                        "text/markdown": [
                            "\n",
                            "A spec_tbl_df: 10 × 5\n",
                            "\n",
                            "| bill_length_mm &lt;dbl&gt; | bill_depth_mm &lt;dbl&gt; | flipper_length_mm &lt;dbl&gt; | body_mass_g &lt;dbl&gt; | species &lt;chr&gt; |\n",
                            "|---|---|---|---|---|\n",
                            "| 39.1 | 18.7 | 181 | 3750 | Adelie |\n",
                            "| 39.5 | 17.4 | 186 | 3800 | Adelie |\n",
                            "| 40.3 | 18.0 | 195 | 3250 | Adelie |\n",
                            "| 36.7 | 19.3 | 193 | 3450 | Adelie |\n",
                            "| 39.3 | 20.6 | 190 | 3650 | Adelie |\n",
                            "| 38.9 | 17.8 | 181 | 3625 | Adelie |\n",
                            "| 39.2 | 19.6 | 195 | 4675 | Adelie |\n",
                            "| 34.1 | 18.1 | 193 | 3475 | Adelie |\n",
                            "| 42.0 | 20.2 | 190 | 4250 | Adelie |\n",
                            "| 37.8 | 17.1 | 186 | 3300 | Adelie |\n",
                            "\n"
                        ],
                        "text/plain": [
                            "   bill_length_mm bill_depth_mm flipper_length_mm body_mass_g species\n",
                            "1  39.1           18.7          181               3750        Adelie \n",
                            "2  39.5           17.4          186               3800        Adelie \n",
                            "3  40.3           18.0          195               3250        Adelie \n",
                            "4  36.7           19.3          193               3450        Adelie \n",
                            "5  39.3           20.6          190               3650        Adelie \n",
                            "6  38.9           17.8          181               3625        Adelie \n",
                            "7  39.2           19.6          195               4675        Adelie \n",
                            "8  34.1           18.1          193               3475        Adelie \n",
                            "9  42.0           20.2          190               4250        Adelie \n",
                            "10 37.8           17.1          186               3300        Adelie "
                        ]
                    },
                    "metadata": {},
                    "output_type": "display_data"
                },
                {
                    "data": {
                        "text/html": [
                            "<table class=\"dataframe\">\n",
                            "<caption>A tibble: 10 × 3</caption>\n",
                            "<thead>\n",
                            "\t<tr><th scope=col>species</th><th scope=col>predictors</th><th scope=col>values</th></tr>\n",
                            "\t<tr><th scope=col>&lt;chr&gt;</th><th scope=col>&lt;chr&gt;</th><th scope=col>&lt;dbl&gt;</th></tr>\n",
                            "</thead>\n",
                            "<tbody>\n",
                            "\t<tr><td>Gentoo   </td><td>body_mass_g      </td><td>4375</td></tr>\n",
                            "\t<tr><td>Gentoo   </td><td>body_mass_g      </td><td>5350</td></tr>\n",
                            "\t<tr><td>Adelie   </td><td>flipper_length_mm</td><td> 193</td></tr>\n",
                            "\t<tr><td>Chinstrap</td><td>body_mass_g      </td><td>3650</td></tr>\n",
                            "\t<tr><td>Gentoo   </td><td>flipper_length_mm</td><td> 225</td></tr>\n",
                            "\t<tr><td>Gentoo   </td><td>body_mass_g      </td><td>5500</td></tr>\n",
                            "\t<tr><td>Chinstrap</td><td>bill_depth_mm    </td><td>  19</td></tr>\n",
                            "\t<tr><td>Chinstrap</td><td>flipper_length_mm</td><td> 199</td></tr>\n",
                            "\t<tr><td>Chinstrap</td><td>body_mass_g      </td><td>4400</td></tr>\n",
                            "\t<tr><td>Adelie   </td><td>flipper_length_mm</td><td> 193</td></tr>\n",
                            "</tbody>\n",
                            "</table>\n"
                        ],
                        "text/latex": [
                            "A tibble: 10 × 3\n",
                            "\\begin{tabular}{lll}\n",
                            " species & predictors & values\\\\\n",
                            " <chr> & <chr> & <dbl>\\\\\n",
                            "\\hline\n",
                            "\t Gentoo    & body\\_mass\\_g       & 4375\\\\\n",
                            "\t Gentoo    & body\\_mass\\_g       & 5350\\\\\n",
                            "\t Adelie    & flipper\\_length\\_mm &  193\\\\\n",
                            "\t Chinstrap & body\\_mass\\_g       & 3650\\\\\n",
                            "\t Gentoo    & flipper\\_length\\_mm &  225\\\\\n",
                            "\t Gentoo    & body\\_mass\\_g       & 5500\\\\\n",
                            "\t Chinstrap & bill\\_depth\\_mm     &   19\\\\\n",
                            "\t Chinstrap & flipper\\_length\\_mm &  199\\\\\n",
                            "\t Chinstrap & body\\_mass\\_g       & 4400\\\\\n",
                            "\t Adelie    & flipper\\_length\\_mm &  193\\\\\n",
                            "\\end{tabular}\n"
                        ],
                        "text/markdown": [
                            "\n",
                            "A tibble: 10 × 3\n",
                            "\n",
                            "| species &lt;chr&gt; | predictors &lt;chr&gt; | values &lt;dbl&gt; |\n",
                            "|---|---|---|\n",
                            "| Gentoo    | body_mass_g       | 4375 |\n",
                            "| Gentoo    | body_mass_g       | 5350 |\n",
                            "| Adelie    | flipper_length_mm |  193 |\n",
                            "| Chinstrap | body_mass_g       | 3650 |\n",
                            "| Gentoo    | flipper_length_mm |  225 |\n",
                            "| Gentoo    | body_mass_g       | 5500 |\n",
                            "| Chinstrap | bill_depth_mm     |   19 |\n",
                            "| Chinstrap | flipper_length_mm |  199 |\n",
                            "| Chinstrap | body_mass_g       | 4400 |\n",
                            "| Adelie    | flipper_length_mm |  193 |\n",
                            "\n"
                        ],
                        "text/plain": [
                            "   species   predictors        values\n",
                            "1  Gentoo    body_mass_g       4375  \n",
                            "2  Gentoo    body_mass_g       5350  \n",
                            "3  Adelie    flipper_length_mm  193  \n",
                            "4  Chinstrap body_mass_g       3650  \n",
                            "5  Gentoo    flipper_length_mm  225  \n",
                            "6  Gentoo    body_mass_g       5500  \n",
                            "7  Chinstrap bill_depth_mm       19  \n",
                            "8  Chinstrap flipper_length_mm  199  \n",
                            "9  Chinstrap body_mass_g       4400  \n",
                            "10 Adelie    flipper_length_mm  193  "
                        ]
                    },
                    "metadata": {},
                    "output_type": "display_data"
                },
                {
                    "data": {
                        "image/png": "[encoded data removed]",
                        "text/plain": [
                            "plot without title"
                        ]
                    },
                    "metadata": {
                        "image/png": {
                            "height": 420,
                            "width": 420
                        }
                    },
                    "output_type": "display_data"
                }
            ],
            "source": [
                "# View the first 10 observations\n",
                "penguins %>%\n",
                "  slice_head(n = 10)\n",
                "\n",
                "# Pivot data to a long format\n",
                "penguins_select_long <- penguins %>% \n",
                "  pivot_longer(!species, names_to = \"predictors\", values_to = \"values\")\n",
                "\n",
                "penguins_select_long %>% \n",
                "  slice_sample(n = 10)\n",
                "\n",
                "# Make box plots\n",
                "theme_set(theme_light())\n",
                "penguins_select_long %>%\n",
                "  ggplot(mapping = aes(x = species, y = values, fill = predictors)) +\n",
                "  geom_boxplot() +\n",
                "  facet_wrap(~predictors, scales = \"free\") +\n",
                "  paletteer::scale_fill_paletteer_d(\"nbapalettes::supersonics_holiday\") +\n",
                "  theme(legend.position = \"none\")\n",
                "  \n"
            ]
        },
        {
            "cell_type": "markdown",
            "metadata": {},
            "source": [
                "From the box plots, it looks like species `Adelie` and `Chinstrap` have similar data profiles for bill_depth, flipper_length, and body_mass, but Chinstraps tend to have longer bill_length. `Gentoo` tends to have fairly clearly differentiated features from the others; which should help us train a good classification model.\n",
                "\n",
                "## Build a model\n",
                "\n",
                "### 1. Data budgeting\n",
                "\n",
                "To get started, let’s split this single dataset into two: a training set and a testing set. We’ll keep most of the rows in the original dataset (subset chosen randomly) in the training set. The training data will be used to fit the model, and the testing set will be used to measure model performance.\n"
            ]
        },
        {
            "cell_type": "code",
            "execution_count": 4,
            "metadata": {},
            "outputs": [
                {
                    "name": "stdout",
                    "output_type": "stream",
                    "text": [
                        "Training cases: 239\n",
                        "Test cases: 103"
                    ]
                }
            ],
            "source": [
                "# For reproducibility\n",
                "set.seed(2056)\n",
                "\n",
                "# Split data 70%-30% into training set and test set\n",
                "penguins_split <- penguins %>% \n",
                "  initial_split(prop = 0.70)\n",
                "\n",
                "# Extract data in each split\n",
                "penguins_train <- training(penguins_split)\n",
                "penguins_test <- testing(penguins_split)\n",
                "\n",
                "# Print the number of observations in each split\n",
                "cat(\"Training cases: \", nrow(penguins_train), \"\\n\",\n",
                "    \"Test cases: \", nrow(penguins_test), sep = \"\")\n"
            ]
        },
        {
            "cell_type": "markdown",
            "metadata": {},
            "source": [
                "### 2. Make a model specifcation\n",
                "\n",
                "<p >\n",
                "<center><img src = \"images/parsnip.png\", width= 500>\n",
                "\n",
                "\n"
            ]
        },
        {
            "cell_type": "markdown",
            "metadata": {},
            "source": [
                "Tidymodels provides a unified interface to models that can be used to try a range of models by specifying three concepts:\n",
                "\n",
                "- Model **type** differentiates models such as logistic regression, decision tree models, and so forth.\n",
                "\n",
                "- Model **engine** is the computational tool which will be used to fit the model. Often these are R packages, such as \"lm\" or \"ranger\"\n",
                "\n",
                "- Model **mode** includes common options like regression and classification; some model types support either of these while some only have one mode."
            ]
        },
        {
            "cell_type": "code",
            "execution_count": 5,
            "metadata": {},
            "outputs": [
                {
                    "name": "stdout",
                    "output_type": "stream",
                    "text": [
                        "Random Forest Model Specification (classification)\n",
                        "\n",
                        "Computational engine: ranger \n",
                        "\n"
                    ]
                }
            ],
            "source": [
                "# Specify a random forest model via ranger\n",
                "rf_spec <- rand_forest() %>% \n",
                "  set_engine(\"ranger\") %>% \n",
                "  set_mode(\"classification\")\n",
                "\n",
                "print(rf_spec)"
            ]
        },
        {
            "cell_type": "markdown",
            "metadata": {},
            "source": [
                "### 3. Feature Engineering with recipes\n",
                "\n",
                "Feature engineering encompasses activities that reformat predictor values to make them easier for a model to use effectively. A recipe is an object that defines a series of steps for data processing.\n",
                "\n",
                "<p >\n",
                "<center><img src = \"images/recipe_mod.jfif\", class = \"center\", width= 400>\n",
                "\n"
            ]
        },
        {
            "cell_type": "markdown",
            "metadata": {},
            "source": [
                "A common preprocessing step is to normalize numeric features so they’re on the same scale."
            ]
        },
        {
            "cell_type": "code",
            "execution_count": null,
            "metadata": {},
            "outputs": [],
            "source": [
                "# Create a recipe specification that:\n",
                "# normalizes numeric features\n",
                "penguins_recipe <- recipe(species ~ ., data = penguins_train) %>% \n",
                "    step_normalize(all_numeric_predictors())\n",
                "\n",
                "\n",
                "\n",
                "# Bundle recipe and model specification into a workflow\n",
                "penguins_wf <- workflow() %>% \n",
                "    add_recipe(penguins_recipe) %>% \n",
                "    add_model(rf_spec)\n",
                "\n",
                "print(penguins_wf)\n"
            ]
        },
        {
            "cell_type": "markdown",
            "metadata": {},
            "source": [
                "### 4. Train and evaluate a model\n",
                "\n",
                "You can then fit the entire workflow to the data, so that the model encapsulates all of the preprocessing steps as well as the algorithm."
            ]
        },
        {
            "cell_type": "code",
            "execution_count": null,
            "metadata": {},
            "outputs": [],
            "source": [
                "# Train a regression model\n",
                "set.seed(2056)\n",
                "wf_fit <- penguins_wf %>% \n",
                "  fit(data = penguins_train)\n",
                "\n",
                "# Print the model\n",
                "print(wf_fit)"
            ]
        },
        {
            "cell_type": "markdown",
            "metadata": {},
            "source": [
                "Now we can use the trained model to predict the labels for the test features, and evaluate performance. When making predictions, the tidymodels convention is to always produce a tibble of results with standardized column names.\n",
                "\n"
            ]
        },
        {
            "cell_type": "code",
            "execution_count": null,
            "metadata": {},
            "outputs": [],
            "source": [
                "# Make predictions for the test set\n",
                "penguins_pred <- wf_fit %>% \n",
                "  predict(new_data = penguins_test)\n",
                "\n",
                "penguins_pred %>% \n",
                "  slice_head(n = 10)"
            ]
        },
        {
            "cell_type": "markdown",
            "metadata": {},
            "source": [
                "This makes it easy to combine the original data and the predictions in a usable format:"
            ]
        },
        {
            "cell_type": "code",
            "execution_count": null,
            "metadata": {},
            "outputs": [],
            "source": [
                "# Combine predictions with test set\n",
                "penguins_results <- penguins_test %>% \n",
                "  bind_cols(penguins_pred)\n",
                "\n",
                "# Print predictions\n",
                "penguins_results %>% \n",
                "  slice_sample(n = 10)\n",
                "\n"
            ]
        },
        {
            "cell_type": "markdown",
            "metadata": {},
            "source": [
                "Now, let's look at the confusion matrix for our model\n",
                "\n"
            ]
        },
        {
            "cell_type": "code",
            "execution_count": null,
            "metadata": {},
            "outputs": [],
            "source": [
                "# Confusion matrix\n",
                "penguins_results %>% \n",
                "  conf_mat(truth = species, estimate = .pred_class) %>% \n",
                "  print()\n"
            ]
        },
        {
            "cell_type": "markdown",
            "metadata": {},
            "source": [
                "The confusion matrix shows the intersection of predicted and actual label values for each class - in simple terms, the diagonal intersections from top-left to bottom-right indicate the number of correct predictions.\n",
                "\n",
                "When dealing with multiple classes, it's generally more intuitive to visualize this as a heat map, like this:\n"
            ]
        },
        {
            "cell_type": "code",
            "execution_count": null,
            "metadata": {},
            "outputs": [],
            "source": [
                "update_geom_defaults(geom = \"tile\", new = list(color = \"black\", alpha = 0.7))\n",
                "# Visualize confusion matrix\n",
                "penguins_results %>% \n",
                "  conf_mat(species, .pred_class) %>% \n",
                "  autoplot(type = \"heatmap\")\n"
            ]
        },
        {
            "cell_type": "markdown",
            "metadata": {},
            "source": [
                "The darker squares in the confusion matrix plot indicate high numbers of cases, and you can hopefully see a diagonal line of darker squares indicating cases where the predicted and actual label are the same.\n",
                "\n",
                "Let's now calculate summary statistics for the confusion matrix.\n"
            ]
        },
        {
            "cell_type": "code",
            "execution_count": null,
            "metadata": {},
            "outputs": [],
            "source": [
                "# Statistical summaries for the confusion matrix\n",
                "conf_mat(data = penguins_results, truth = species, estimate = .pred_class) %>% \n",
                "  summary()  %>% \n",
                "  filter(.metric %in% c(\"accuracy\", \"sens\", \"ppv\"))\n"
            ]
        },
        {
            "cell_type": "markdown",
            "metadata": {},
            "source": [
                "The tibble shows the overall metrics of how well the model performs across all three classes.\n",
                "\n"
            ]
        },
        {
            "cell_type": "markdown",
            "metadata": {},
            "source": [
                "Good job! A working model 🐧🐧! \n",
                "### **Wrapping up and next steps**\n",
                "\n",
                "<p >\n",
                "<img src = \"images/giphy_p.gif\", class = \"center\", width= 300>\n",
                "\n",
                "Congratulations on building a random forest classification model in R. Some possible next steps (covered in the upcoming learning path) would be:\n",
                "- Tuning model hyperparameters\n",
                "- Comparing performance across many models\n",
                "- Deploying model to [Azure Machine Learning Studio](https://ml.azure.com/)\n",
                "\n"
            ]
        }
    ],
    "metadata": {
        "anaconda-cloud": "",
        "kernelspec": {
            "display_name": "R",
            "langauge": "R",
            "language": "R",
            "name": "ir"
        },
        "language_info": {
            "codemirror_mode": "r",
            "file_extension": ".r",
            "mimetype": "text/x-r-source",
            "name": "R",
            "pygments_lexer": "r",
            "version": "4.1.2"
        }
    },
    "nbformat": 4,
    "nbformat_minor": 1
}
